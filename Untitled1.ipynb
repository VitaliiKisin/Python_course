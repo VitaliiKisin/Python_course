Задача 40: Работать с файлом california_housing_train.csv, который находится в папке sample_data. Определить среднюю стоимость дома, где кол-во людей от 0 до 500 (population).


import pandas as pd

     
Загрузка файла :


df = pd.read_csv('sample_data/california_housing_train.csv')
     
Количество строк, столбцов :


df.shape
     
(17000, 9)

df.dtypes
     
longitude             float64
latitude              float64
housing_median_age    float64
total_rooms           float64
total_bedrooms        float64
population            float64
households            float64
median_income         float64
median_house_value    float64
dtype: object
Пустые строки :


df.isnull().sum()
     
longitude             0
latitude              0
housing_median_age    0
total_rooms           0
total_bedrooms        0
population            0
households            0
median_income         0
median_house_value    0
dtype: int64
Названия столбцов :


df.columns
     
Index(['longitude', 'latitude', 'housing_median_age', 'total_rooms',
       'total_bedrooms', 'population', 'households', 'median_income',
       'median_house_value'],
      dtype='object')
Дома, в которых проживают до 500 человек :


df[df['population'] <=500]
     
longitude	latitude	housing_median_age	total_rooms	total_bedrooms	population	households	median_income	median_house_value
2	-114.56	33.69	17.0	720.0	174.0	333.0	117.0	1.6509	85700.0
7	-114.59	34.83	41.0	812.0	168.0	375.0	158.0	1.7083	48500.0
17	-114.65	32.79	21.0	44.0	33.0	64.0	27.0	0.8571	25000.0
19	-114.67	33.92	17.0	97.0	24.0	29.0	15.0	1.2656	27500.0
21	-114.73	33.43	24.0	796.0	243.0	227.0	139.0	0.8964	59200.0
...	...	...	...	...	...	...	...	...	...
16944	-124.14	40.67	23.0	580.0	117.0	320.0	109.0	4.2054	130600.0
16951	-124.15	40.81	50.0	340.0	74.0	235.0	83.0	1.7500	67500.0
16969	-124.17	40.80	52.0	661.0	316.0	392.0	244.0	0.9570	60000.0
16982	-124.18	40.62	35.0	952.0	178.0	480.0	179.0	3.0536	107000.0
16994	-124.25	40.28	32.0	1430.0	419.0	434.0	187.0	1.9417	76100.0
1605 rows × 9 columns

Стоимость домов до 500 человек :


df[df['population'] <=500]['median_house_value']
     
2         85700.0
7         48500.0
17        25000.0
19        27500.0
21        59200.0
           ...   
16944    130600.0
16951     67500.0
16969     60000.0
16982    107000.0
16994     76100.0
Name: median_house_value, Length: 1605, dtype: float64
Стоимость всех домов до 500 человек :


df[df['population'] <=500]['median_house_value'].sum()
     
331913922.0
Средняя стоимость домов до 500 человек (всего их 1605). Первый способ :


df[df['population'] <=500]['median_house_value'].sum()/1605
     
206799.95140186916
Второй способ :


df[df['population'] <=500]['median_house_value'].mean()
     
206799.95140186916
???? :


df[df['population'] <=500]['median_house_value'].median()
     
169500.0
Минимальное количество людей в семье, живущих в доме :


print(df['population'].min())
     
3.0
Задача 42: Узнать какая максимальная households в зоне минимального значения population.


df[df['population'] == df['population'].min()]['households'].max()
     
4.0
