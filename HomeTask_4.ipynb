{
 "cells": [
  {
   "cell_type": "markdown",
   "id": "8c92870e",
   "metadata": {},
   "source": [
    "#### Условие 1: Задача 1\n",
    "#### Постройте график\n",
    "#### Назовите график\n",
    "#### Сделайте именование оси x и оси y\n",
    "#### Сделайте выводы"
   ]
  },
  {
   "cell_type": "markdown",
   "id": "2cd8283a",
   "metadata": {},
   "source": [
    "#### 1.1. Скачать данные по ссылке https://www.kaggle.com/datasets/ionaskel/laptop-prices"
   ]
  },
  {
   "cell_type": "code",
   "execution_count": null,
   "id": "6784eae8",
   "metadata": {},
   "outputs": [],
   "source": [
    "import pandas as pd \n",
    "import numpy as np\n",
    "import matplotlib.pyplot as plt\n",
    "import seaborn as sns"
   ]
  },
  {
   "cell_type": "code",
   "execution_count": null,
   "id": "172cbd0d",
   "metadata": {},
   "outputs": [],
   "source": [
    "df = pd.read_csv(\"C:\\\\Users\\\\79371\\\\Python_course\\\\kc_house_data.csv\", encoding=\"latin-1\")\n",
    "df"
   ]
  },
  {
   "cell_type": "markdown",
   "id": "f08f86c3",
   "metadata": {},
   "source": [
    "#### 1.2 Изучите стоимости недвижимости"
   ]
  },
  {
   "cell_type": "code",
   "execution_count": 3,
   "id": "add35640",
   "metadata": {},
   "outputs": [],
   "source": [
    "df.shape"
   ]
  },
  {
   "cell_type": "code",
   "execution_count": 4,
   "id": "e5fe5785",
   "metadata": {},
   "outputs": [],
   "source": [
    "df.price.value_counts()"
   ]
  },
  {
   "cell_type": "code",
   "execution_count": 5,
   "id": "f15a3ed6",
   "metadata": {},
   "outputs": [],
   "source": [
    "plt.figure(figsize=(10, 8))\n",
    "sns.histplot(df['price'], bins=100)\n",
    "plt.title('Цена')\n",
    "plt.xlabel('Стоимость')\n",
    "plt.ylabel('Количество домов');"
   ]
  },
  {
   "cell_type": "markdown",
   "id": "3051b78c",
   "metadata": {},
   "source": [
    "#### 1.3 Изучите распределение квадратуры жилой"
   ]
  },
  {
   "cell_type": "code",
   "execution_count": 6,
   "id": "fcb5d52e",
   "metadata": {},
   "outputs": [],
   "source": [
    "plt.figure(figsize=(8, 4))\n",
    "sns.histplot(df['sqft_living'], bins=100)\n",
    "plt.title('Распределение жилой площади')\n",
    "plt.xlabel('Жилая площадь')\n",
    "plt.ylabel('Количество домов');"
   ]
  },
  {
   "cell_type": "markdown",
   "id": "d8369596",
   "metadata": {},
   "source": [
    "#### 1.4 Изучите распределение года постройки"
   ]
  },
  {
   "cell_type": "code",
   "execution_count": 7,
   "id": "a1d18cc0",
   "metadata": {},
   "outputs": [],
   "source": [
    "plt.figure(figsize=(10, 8))\n",
    "sns.histplot(df['yr_built'], bins=100)\n",
    "plt.title('Год постройки')\n",
    "plt.xlabel('Год')\n",
    "plt.ylabel('Количество домов');"
   ]
  },
  {
   "cell_type": "markdown",
   "id": "4ed27254",
   "metadata": {},
   "source": [
    "### Задача №2"
   ]
  },
  {
   "cell_type": "markdown",
   "id": "ed4afeb4",
   "metadata": {},
   "source": [
    "#### 2.1 Изучите распределение домов от наличия вида на набережную\n",
    "#### Постройте график\n",
    "#### Сделайте выводы"
   ]
  },
  {
   "cell_type": "code",
   "execution_count": 8,
   "id": "d4a5fda4",
   "metadata": {},
   "outputs": [],
   "source": [
    "df.waterfront.value_counts"
   ]
  },
  {
   "cell_type": "code",
   "execution_count": 9,
   "id": "ca1f244b",
   "metadata": {},
   "outputs": [],
   "source": [
    "data = df['waterfront'].astype('str').value_counts()\n",
    "data "
   ]
  },
  {
   "cell_type": "code",
   "execution_count": 10,
   "id": "bade5481",
   "metadata": {},
   "outputs": [],
   "source": [
    "plt.figure(figsize=(10, 8))\n",
    "\n",
    "plt.pie(data, autopct='%1.1f%%')\n",
    "\n",
    "plt.title('Дома на набережной')\n",
    "plt.legend(data.index);"
   ]
  },
  {
   "cell_type": "markdown",
   "id": "7e51fc3c",
   "metadata": {},
   "source": [
    "#### 2.2 Изучите распределение этажей домов"
   ]
  },
  {
   "cell_type": "code",
   "execution_count": 11,
   "id": "38449f98",
   "metadata": {},
   "outputs": [],
   "source": [
    "data = df['floors'].astype('str').value_counts()\n",
    "data"
   ]
  },
  {
   "cell_type": "code",
   "execution_count": 12,
   "id": "270d92c7",
   "metadata": {},
   "outputs": [],
   "source": [
    "plt.figure(figsize=(10, 8))\n",
    "## plt.bar(data.index, data.values)\n",
    "sns.barplot(x=data.index, y=data.values)\n",
    "plt.title('Этажность домов')\n",
    "plt.xlabel('Этажи')\n",
    "plt.ylabel('Количество домов');\n",
    "plt.xticks(rotation=30);"
   ]
  },
  {
   "cell_type": "code",
   "execution_count": 13,
   "id": "9f1ae2cc",
   "metadata": {},
   "outputs": [],
   "source": [
    "## Такими цветными диаграммы не делают, это в качестве эксперемента"
   ]
  },
  {
   "cell_type": "markdown",
   "id": "959b642b",
   "metadata": {},
   "source": [
    "#### 2.2 Изучите распределение состояния домов"
   ]
  },
  {
   "cell_type": "code",
   "execution_count": 14,
   "id": "4924f55b",
   "metadata": {},
   "outputs": [],
   "source": [
    "data = df['condition'].astype('str').value_counts()\n",
    "data"
   ]
  },
  {
   "cell_type": "code",
   "execution_count": 15,
   "id": "4f1d0f99",
   "metadata": {},
   "outputs": [],
   "source": [
    "plt.figure(figsize=(6, 6))\n",
    "plt.bar(data.index, data.values)\n",
    "plt.title('Переменная состояния дома')\n",
    "plt.xlabel('Состояние дома')\n",
    "plt.ylabel('Количество домов')\n",
    "plt.xticks(rotation=50);"
   ]
  },
  {
   "cell_type": "markdown",
   "id": "69965f6b",
   "metadata": {},
   "source": [
    "### Задача № 3\n",
    "#### 3.1 Исследуйте, какие характеристики недвижимости влияют на стоимость недвижимости, с применением не менее 5 диаграмм из урока.\n",
    "#### 3.2 Анализ сделайте в формате storytelling: дополнить каждый график письменными выводами и наблюдениями."
   ]
  },
  {
   "cell_type": "code",
   "execution_count": null,
   "id": "846cfbb3",
   "metadata": {},
   "outputs": [],
   "source": [
    "plt.figure(figsize=(15,8))\n",
    "sns.boxplot(y=df[\"sqft_living\"], x=df[\"price\"], whis=1.5)\n",
    "plt.xlabel(\"sqft_living\")\n",
    "plt.ylabel(\"price\");"
   ]
  },
  {
   "cell_type": "code",
   "execution_count": null,
   "id": "7d50b2ed",
   "metadata": {},
   "outputs": [],
   "source": [
    "plt.figure(figsize=(15,8))\n",
    "sns.boxplot(y=df[\"sqft_lot\"], x=df[\"price\"], whis=1.5)\n",
    "plt.xlabel(\"sqft_lot\")\n",
    "plt.ylabel(\"price\");"
   ]
  },
  {
   "cell_type": "code",
   "execution_count": null,
   "id": "dfd4b6ff",
   "metadata": {},
   "outputs": [],
   "source": [
    "plt.figure(figsize=(15,8))\n",
    "sns.boxplot(y=df[\"view\"], x=df[\"price\"], whis=1.5)\n",
    "plt.xlabel(\"view\")\n",
    "plt.ylabel(\"price\");"
   ]
  },
  {
   "cell_type": "code",
   "execution_count": null,
   "id": "195926d4",
   "metadata": {},
   "outputs": [],
   "source": [
    "plt.figure(figsize=(15,8))\n",
    "sns.boxplot(y=df[\"waterfront\"], x=df[\"price\"], whis=1.5)\n",
    "plt.xlabel(\"waterfront\")\n",
    "plt.ylabel(\"price\");"
   ]
  },
  {
   "cell_type": "code",
   "execution_count": null,
   "id": "5419731e",
   "metadata": {},
   "outputs": [],
   "source": [
    "plt.figure(figsize=(15,8))\n",
    "sns.boxplot(y=df[\"floors\"], x=df[\"price\"], whis=1.5)\n",
    "plt.xlabel(\"floors\")\n",
    "plt.ylabel(\"price\");"
   ]
  },
  {
   "cell_type": "code",
   "execution_count": null,
   "id": "cbaa8cdd",
   "metadata": {},
   "outputs": [],
   "source": [
    "plt.figure(figsize=(15,8))\n",
    "sns.violinplot(y=df[\"condition\"], x=df[\"price\"], whis=1.5)\n",
    "plt.xlabel(\"price\")\n",
    "plt.ylabel(\"condition\");"
   ]
  },
  {
   "cell_type": "markdown",
   "id": "dd46af2b",
   "metadata": {},
   "source": [
    "#### 3.2 Анализ сделайте в формате storytelling: дополнить каждый график письменными выводами и наблюдениями."
   ]
  },
  {
   "cell_type": "code",
   "execution_count": null,
   "id": "5773b2d0",
   "metadata": {
    "scrolled": true
   },
   "outputs": [],
   "source": [
    "corr_matrix = df.corr()\n",
    "corr_matrix"
   ]
  },
  {
   "cell_type": "code",
   "execution_count": null,
   "id": "337c1dbf",
   "metadata": {},
   "outputs": [],
   "source": [
    "corr_matrix = np.round(corr_matrix, 2)\n",
    "corr_matrix"
   ]
  },
  {
   "cell_type": "code",
   "execution_count": null,
   "id": "9f2bbc00",
   "metadata": {},
   "outputs": [],
   "source": [
    "corr_matrix[np.abs(corr_matrix) <= 0.2] = 0\n",
    "corr_matrix"
   ]
  },
  {
   "cell_type": "code",
   "execution_count": null,
   "id": "5cc67486",
   "metadata": {},
   "outputs": [],
   "source": [
    "sns.heatmap(corr_matrix, annot = True, cmap='viridis')"
   ]
  },
  {
   "cell_type": "code",
   "execution_count": null,
   "id": "ef1f088e",
   "metadata": {},
   "outputs": [],
   "source": [
    "upp_mat = np.triu(df.corr())"
   ]
  },
  {
   "cell_type": "code",
   "execution_count": null,
   "id": "6ccaa9f9",
   "metadata": {},
   "outputs": [],
   "source": [
    "sns.heatmap(df.corr(), annot=True, cmap='viridis', mask=upp_mat)"
   ]
  },
  {
   "cell_type": "code",
   "execution_count": null,
   "id": "e9243041",
   "metadata": {},
   "outputs": [],
   "source": [
    "pd.plotting.scatter_matrix(df);"
   ]
  },
  {
   "cell_type": "code",
   "execution_count": null,
   "id": "42a2bf0c",
   "metadata": {},
   "outputs": [],
   "source": [
    "sns.pairplot(df,height=2, kind=\"scatter\", diag_kind=\"kde\")\n",
    "plt.show()"
   ]
  },
  {
   "cell_type": "code",
   "execution_count": null,
   "id": "3a39ba07",
   "metadata": {},
   "outputs": [],
   "source": []
  }
 ],
 "metadata": {
  "kernelspec": {
   "display_name": "Python 3 (ipykernel)",
   "language": "python",
   "name": "python3"
  },
  "language_info": {
   "codemirror_mode": {
    "name": "ipython",
    "version": 3
   },
   "file_extension": ".py",
   "mimetype": "text/x-python",
   "name": "python",
   "nbconvert_exporter": "python",
   "pygments_lexer": "ipython3",
   "version": "3.10.9"
  }
 },
 "nbformat": 4,
 "nbformat_minor": 5
}
